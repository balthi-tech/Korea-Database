{
  "nbformat": 4,
  "nbformat_minor": 0,
  "metadata": {
    "colab": {
      "provenance": [],
      "collapsed_sections": []
    },
    "kernelspec": {
      "name": "python3",
      "display_name": "Python 3"
    },
    "language_info": {
      "name": "python"
    }
  },
  "cells": [
    {
      "cell_type": "code",
      "execution_count": 3,
      "metadata": {
        "id": "h5TyCFJ-n9Yw"
      },
      "outputs": [],
      "source": [
        "import sqlite3 as sl\n",
        "\n",
        "con = sl.connect('my-test.db')\n",
        "\n"
      ]
    },
    {
      "cell_type": "code",
      "source": [
        "with con:\n",
        "  con.execute ('''\n",
        "CREATE TABLE USER (\n",
        "id INTEGER NOT NULL PRIMARY KEY AUTOINCREMENT, name TEXT, age INTEGER\n",
        ");\n",
        "''')"
      ],
      "metadata": {
        "id": "qI7d1aneobon"
      },
      "execution_count": 4,
      "outputs": []
    },
    {
      "cell_type": "code",
      "source": [
        "sql = 'INSERT INTO USER (id, name, age) values (?, ?, ?)'\n",
        "data = [\n",
        "  (1, 'Alice', 21),\n",
        "  (2, 'Bob', 22),\n",
        "  (3, 'Chris', 23)\n",
        "]"
      ],
      "metadata": {
        "id": "Lg2semRzoxlc"
      },
      "execution_count": 8,
      "outputs": []
    },
    {
      "cell_type": "code",
      "source": [
        "with con:\n",
        "  con.executemany(sql, data)"
      ],
      "metadata": {
        "id": "aexprlEzpEBQ"
      },
      "execution_count": 10,
      "outputs": []
    },
    {
      "cell_type": "code",
      "source": [
        "with con:\n",
        "  data = con.execute(\"SELECT * FROM USER WHERE age <= 22\")\n",
        "for row in data:\n",
        "  print (row)"
      ],
      "metadata": {
        "id": "_Nw1A_YRpK56"
      },
      "execution_count": null,
      "outputs": []
    },
    {
      "cell_type": "code",
      "source": [
        "import pandas as pd\n",
        "df_skill = pd.DataFrame({\n",
        "  'user_id': [1,1,2,2,3,3,3],\n",
        "  'skill': ['Network Security', 'Algorithm Development', 'Network Security', 'Java', 'Python', 'Data Science', 'Machine Learning']\n",
        "})\n",
        "df_skill"
      ],
      "metadata": {
        "id": "jaFEJZtApeBR"
      },
      "execution_count": null,
      "outputs": []
    },
    {
      "cell_type": "code",
      "source": [
        "df_skill.to_sql('SKILL', con)\n",
        "df = pd.read_sql('''\n",
        "  SELECT s.user_id, u.name, u.age, s.skill\n",
        "  FROM USER u LEFT JOIN SKILL s ON u.id = s.user_id\n",
        "''', con)\n",
        "\n",
        "df"
      ],
      "metadata": {
        "id": "KJTOwTtNpulV"
      },
      "execution_count": null,
      "outputs": []
    },
    {
      "cell_type": "code",
      "source": [
        "df.to_sql('USER_SKILL', con)"
      ],
      "metadata": {
        "id": "w1SKcOH4qoiD"
      },
      "execution_count": 24,
      "outputs": []
    },
    {
      "cell_type": "code",
      "source": [
        "%load_ext sql\n",
        "from random import uniform, choice\n",
        "import time\n",
        "from datetime import datetime, timedelta\n",
        "import pandas as pd \n",
        "%matplotlib inline"
      ],
      "metadata": {
        "id": "21wsUggPrRpP"
      },
      "execution_count": 25,
      "outputs": []
    },
    {
      "cell_type": "code",
      "source": [
        "%sql sqlite:///demo.db3"
      ],
      "metadata": {
        "id": "sXPo4A-PrhC1"
      },
      "execution_count": null,
      "outputs": []
    },
    {
      "cell_type": "code",
      "source": [
        "%sql SELECT date('now');"
      ],
      "metadata": {
        "id": "l5FsnhsIrmJj"
      },
      "execution_count": null,
      "outputs": []
    },
    {
      "cell_type": "code",
      "source": [
        "%sql SELECT date('now', 'start of month', '+1 month', '-1 day');"
      ],
      "metadata": {
        "id": "m0mjyiPUrtwy"
      },
      "execution_count": null,
      "outputs": []
    },
    {
      "cell_type": "code",
      "source": [
        "%%sql sqlite://\n",
        "DROP TABLE IF EXISTS Temperature;\n",
        "CREATE TABLE Temperature (Timestamp DATETIME NOT NULL, Temperature NUMERIC NOT NULL)"
      ],
      "metadata": {
        "id": "bSO7F5Bdr1IR"
      },
      "execution_count": null,
      "outputs": []
    },
    {
      "cell_type": "code",
      "source": [
        "%%sql sqlite://\n",
        "\n",
        "CREATE UNIQUE INDEX id_timestamp ON Temperature (Timestamp);"
      ],
      "metadata": {
        "id": "BozTzp0kr8t3"
      },
      "execution_count": null,
      "outputs": []
    },
    {
      "cell_type": "code",
      "source": [
        "def dt(days):\n",
        "  return timedelta(days=days)\n",
        "N_rows = 500\n",
        "now = datetime.now()\n",
        "for i in range(N_rows):\n",
        "  timestamp = now - dt(days=(N_rows - i))\n",
        "  temperature = uniform (18, 26)\n",
        "  %sql INSERT INTO Temperature VALUES (:timestamp, :temperature);"
      ],
      "metadata": {
        "id": "xkIn04q7sCbn"
      },
      "execution_count": null,
      "outputs": []
    },
    {
      "cell_type": "code",
      "source": [
        "%sql SELECT datetime(Timestamp) as Date, Temperature FROM Temperature LIMIT 5"
      ],
      "metadata": {
        "id": "8dkRGrivsYEG"
      },
      "execution_count": null,
      "outputs": []
    },
    {
      "cell_type": "code",
      "source": [
        "%%sql sqlite://\n",
        "SELECT Timestamp as Date, Temperature\n",
        "FROM Temperature\n",
        "WHERE Date <= '2022-06-31 14:21:45'"
      ],
      "metadata": {
        "id": "HvqnaEBosr0d"
      },
      "execution_count": null,
      "outputs": []
    },
    {
      "cell_type": "code",
      "source": [
        "%%sql sqlite://\n",
        "SELECT Timestamp as Date, Temperature\n",
        "FROM Temperature\n",
        "WHERE CAST (strftime('%Y', Date) as Int) = 2021"
      ],
      "metadata": {
        "id": "UMvp0JIlszqe"
      },
      "execution_count": null,
      "outputs": []
    },
    {
      "cell_type": "code",
      "source": [
        "%%sql sqlite://\n",
        "SELECT strftime('%Y', Timestamp) as Year,\n",
        "  AVG(Temperature) AS MEAN_TMP,\n",
        "  MAX(Temperature) AS MAX_TMP,\n",
        "  MIN(Temperature) AS MIN_TMP\n",
        "FROM Temperature\n",
        "GROUP BY strftime('%Y', Timestamp)"
      ],
      "metadata": {
        "id": "QWmjS54Ls8Wv"
      },
      "execution_count": null,
      "outputs": []
    },
    {
      "cell_type": "code",
      "source": [
        "ts = %sql SELECT datetime (Timestamp) as date, Temperature FROM Temperature\n",
        "df = ts.DataFrame()\n",
        "df.set_index(\"date\", inplace = True)\n",
        "df.index = pd.to_datetime(df.index)\n",
        "df.index"
      ],
      "metadata": {
        "id": "dTn20mlVtRmm"
      },
      "execution_count": null,
      "outputs": []
    },
    {
      "cell_type": "code",
      "source": [
        "df.plot(figsize=(12, 6))"
      ],
      "metadata": {
        "id": "__vNc7HltaRd"
      },
      "execution_count": null,
      "outputs": []
    }
  ]
}