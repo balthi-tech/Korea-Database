{
  "nbformat": 4,
  "nbformat_minor": 0,
  "metadata": {
    "colab": {
      "provenance": [],
      "collapsed_sections": []
    },
    "kernelspec": {
      "name": "python3",
      "display_name": "Python 3"
    },
    "language_info": {
      "name": "python"
    }
  },
  "cells": [
    {
      "cell_type": "code",
      "execution_count": 33,
      "metadata": {
        "id": "KAGO1-TqD345"
      },
      "outputs": [],
      "source": [
        "# Connect database /create\n",
        "from sqlalchemy import create_engine\n",
        "my_conn = create_engine(\"sqlite:////content/test1.db\")"
      ]
    },
    {
      "cell_type": "code",
      "source": [
        "# create tables  \n",
        "\n",
        "queries = [\n",
        "    '''CREATE TABLE IF NOT EXISTS fatl(\n",
        "  id INTEGER PRIMARY KEY AUTOINCREMENT NOT NULL,\n",
        "  level INTEGER NOT NULL,\n",
        "  qualification_date TEXT NOT NULL,\n",
        "  driver_id TEXT NOT NULL\n",
        ");''',\n",
        "\n",
        "'''CREATE TABLE IF NOT EXISTS stlv(\n",
        "  id INTEGER PRIMARY KEY AUTOINCREMENT NOT NULL,\n",
        "  level INTEGER NOT NULL,\n",
        "  qualification_date TEXT NOT NULL,\n",
        "  certifying TEXT,\n",
        "  driver_id TEXT NOT NULL\n",
        ");''',\n",
        "\n",
        "'''CREATE TABLE IF NOT EXISTS base_entity(\n",
        "  id INTEGER PRIMARY KEY AUTOINCREMENT NOT NULL\n",
        "  );''',\n",
        "\n",
        "'''CREATE TABLE IF NOT EXISTS language(\n",
        "  iso_code TEXT NOT NULL, name TEXT NOT NULL, PRIMARY KEY(iso_code)\n",
        "  );''',\n",
        "\n",
        "'''CREATE TABLE IF NOT EXISTS associated_lang(\n",
        "  base_entity_id INTEGER NOT NULL,\n",
        "  language_iso_code TEXT NOT NULL,\n",
        "  CONSTRAINT base_entity_associated_lang\n",
        "    FOREIGN KEY (base_entity_id) REFERENCES base_entity (id),\n",
        "  CONSTRAINT language_associated_lang\n",
        "    FOREIGN KEY (language_iso_code) REFERENCES language (iso_code)\n",
        ");''',\n",
        "\n",
        "'''CREATE TABLE IF NOT EXISTS countries(\n",
        "  id INTEGER PRIMARY KEY AUTOINCREMENT NOT NULL,\n",
        "  country_name TEXT NOT NULL,\n",
        "  base_entity_id INTEGER NOT NULL,\n",
        "  CONSTRAINT base_entity_countries\n",
        "    FOREIGN KEY (base_entity_id) REFERENCES base_entity (id)\n",
        ");''',\n",
        "\n",
        "\n",
        "'''CREATE TABLE IF NOT EXISTS game_official(\n",
        "  id INTEGER PRIMARY KEY AUTOINCREMENT NOT NULL,\n",
        "  first_name TEXT NOT NULL,\n",
        "  last_name TEXT NOT NULL,\n",
        "  city_id INTEGER NOT NULL,\n",
        "  role_id INTEGER NOT NULL,\n",
        "  base_entity_id INTEGER NOT NULL,\n",
        "  CONSTRAINT city_game_official FOREIGN KEY (city_id) REFERENCES city (id),\n",
        "  CONSTRAINT role_game_official FOREIGN KEY (role_id) REFERENCES role (id),\n",
        "  CONSTRAINT base_entity_game_official\n",
        "    FOREIGN KEY (base_entity_id) REFERENCES base_entity (id)\n",
        ");''',\n",
        "\n",
        "'''CREATE TABLE IF NOT EXISTS role(id INTEGER PRIMARY KEY AUTOINCREMENT NOT NULL, name TEXT NOT NULL);''',\n",
        "\n",
        "'''CREATE TABLE IF NOT EXISTS trip_info(\n",
        "  id INTEGER PRIMARY KEY AUTOINCREMENT NOT NULL,\n",
        "  adress TEXT NOT NULL,\n",
        "  location_type TEXT,\n",
        "  date_time TEXT,\n",
        "  odometer INTEGER\n",
        ");''',\n",
        "\n",
        "\n",
        "\n",
        "'''CREATE TABLE IF NOT EXISTS city(\n",
        "  id INTEGER PRIMARY KEY AUTOINCREMENT NOT NULL,\n",
        "  name TEXT NOT NULL,\n",
        "  country_id INTEGER NOT NULL,\n",
        "  CONSTRAINT countries_city FOREIGN KEY (country_id) REFERENCES countries (id)\n",
        ");''',\n",
        "\n",
        "'''CREATE TABLE IF NOT EXISTS vehicle(\n",
        "  id TEXT NOT NULL,\n",
        "  registration_id TEXT NOT NULL,\n",
        "  manufacter TEXT NOT NULL,\n",
        "  model TEXT NOT NULL,\n",
        "  color TEXT NOT NULL,\n",
        "  curent_odometer INTEGER NOT NULL,\n",
        "  passenger_capacity INTEGER NOT NULL,\n",
        "  is_available INTEGER NOT NULL,\n",
        "  maintenance_id INTEGER,\n",
        "  PRIMARY KEY(id),\n",
        "  CONSTRAINT maintenance_vehicle\n",
        "    FOREIGN KEY (maintenance_id) REFERENCES maintenance (id)\n",
        ");''',\n",
        "\n",
        "\n",
        "'''CREATE TABLE IF NOT EXISTS maintenance(\n",
        "  id INTEGER PRIMARY KEY AUTOINCREMENT NOT NULL,\n",
        "  action_type TEXT NOT NULL,\n",
        "  odometer INTEGER NOT NULL,\n",
        "  final_cost INTEGER NOT NULL,\n",
        "  action_description TEXT NOT NULL,\n",
        "  date TEXT NOT NULL\n",
        ");''',\n",
        "\n",
        "'''CREATE TABLE IF NOT EXISTS booking(\n",
        "  booking_ref TEXT NOT NULL,\n",
        "  vehicle_id TEXT NOT NULL,\n",
        "  driver_id INTEGER NOT NULL,\n",
        "  trip_info_start INTEGER NOT NULL,\n",
        "  trip_info_end INTEGER,\n",
        "  game_official_id INTEGER NOT NULL,\n",
        "  PRIMARY KEY(booking_ref),\n",
        "  CONSTRAINT vehicle_booking FOREIGN KEY (vehicle_id) REFERENCES vehicle (id),\n",
        "  CONSTRAINT driver_booking FOREIGN KEY (driver_id) REFERENCES driver (id),\n",
        "  CONSTRAINT trip_info_booking\n",
        "    FOREIGN KEY (trip_info_start) REFERENCES trip_info (id),\n",
        "  CONSTRAINT trip_info_booking\n",
        "    FOREIGN KEY (trip_info_end) REFERENCES trip_info (id),\n",
        "  CONSTRAINT game_official_booking\n",
        "    FOREIGN KEY (game_official_id) REFERENCES game_official (id)\n",
        ");''',\n",
        "\n",
        "\n",
        "'''CREATE TABLE IF NOT EXISTS driver(\n",
        "  id INTEGER PRIMARY KEY AUTOINCREMENT NOT NULL,\n",
        "  first_name TEXT NOT NULL,\n",
        "  last_name TEXT NOT NULL,\n",
        "  license_numer TEXT NOT NULL,\n",
        "  clerence_level INTEGER NOT NULL,\n",
        "  stlv_id INTEGER,\n",
        "  fatl_id INTEGER,\n",
        "  base_entity_id INTEGER NOT NULL,\n",
        "  CONSTRAINT stlv_driver FOREIGN KEY (stlv_id) REFERENCES stlv (id),\n",
        "  CONSTRAINT fatl_driver FOREIGN KEY (fatl_id) REFERENCES fatl (id),\n",
        "  CONSTRAINT base_entity_driver\n",
        "    FOREIGN KEY (base_entity_id) REFERENCES base_entity (id)\n",
        ");''']\n",
        "\n",
        "from sqlalchemy. exc import SQLAlchemyError\n",
        "\n",
        "for query in queries:\n",
        "  try:\n",
        "    my_conn.execute(query)\n",
        "  except SQLAlchemyError as e:\n",
        "    print(e)\n",
        "    error=str(e.__dict__['orig'])\n",
        "    print(error)\n",
        "\n",
        "\n",
        "print(\"all table created\");"
      ],
      "metadata": {
        "colab": {
          "base_uri": "https://localhost:8080/"
        },
        "id": "58Ulkl3yOff1",
        "outputId": "e4eef9f7-fb91-49aa-a284-cd092632278e"
      },
      "execution_count": 71,
      "outputs": [
        {
          "output_type": "stream",
          "name": "stdout",
          "text": [
            "(sqlite3.OperationalError) table driver already exists\n",
            "[SQL: CREATE TABLE  driver(\n",
            "  id INTEGER PRIMARY KEY AUTOINCREMENT NOT NULL,\n",
            "  first_name TEXT NOT NULL,\n",
            "  last_name TEXT NOT NULL,\n",
            "  license_numer TEXT NOT NULL,\n",
            "  clerence_level INTEGER NOT NULL,\n",
            "  stlv_id INTEGER,\n",
            "  fatl_id INTEGER,\n",
            "  base_entity_id INTEGER NOT NULL,\n",
            "  CONSTRAINT stlv_driver FOREIGN KEY (stlv_id) REFERENCES stlv (id),\n",
            "  CONSTRAINT fatl_driver FOREIGN KEY (fatl_id) REFERENCES fatl (id),\n",
            "  CONSTRAINT base_entity_driver\n",
            "    FOREIGN KEY (base_entity_id) REFERENCES base_entity (id)\n",
            ");]\n",
            "(Background on this error at: https://sqlalche.me/e/14/e3q8)\n",
            "table driver already exists\n",
            "all table created\n"
          ]
        }
      ]
    },
    {
      "cell_type": "code",
      "source": [
        "# create record for fatl table\n",
        "\n",
        "my_conn.execute('''INSERT INTO fatl(level, qualification_date, driver_id) VALUES(33, \"21/10/2022\", \"driver1\") ''')"
      ],
      "metadata": {
        "id": "6A3BSbZJXNZm"
      },
      "execution_count": 64,
      "outputs": []
    },
    {
      "cell_type": "code",
      "source": [
        "# create record for stlv table\n",
        "\n",
        "my_conn.execute('''INSERT INTO stlv(level, qualification_date, certifying, driver_id) VALUES(2, \"18/09/2022\", \"police\", \"driver1\") ''')"
      ],
      "metadata": {
        "id": "yM8TK2I5cPbg"
      },
      "execution_count": 38,
      "outputs": []
    },
    {
      "cell_type": "code",
      "source": [
        "# create record for base_entity table\n",
        "\n",
        "my_conn.execute('''INSERT INTO base_entity(id) VALUES(null) ''')"
      ],
      "metadata": {
        "id": "24PJ6DTFcW3f"
      },
      "execution_count": 41,
      "outputs": []
    },
    {
      "cell_type": "code",
      "source": [
        "# create record for language table\n",
        "\n",
        "my_conn.execute('''INSERT INTO language(iso_code, name) VALUES(\"FR\", \"France\") ''')"
      ],
      "metadata": {
        "colab": {
          "base_uri": "https://localhost:8080/"
        },
        "id": "TDMdtPMvcczm",
        "outputId": "192b24b3-659c-4151-b0e8-e84107e467cb"
      },
      "execution_count": 42,
      "outputs": [
        {
          "output_type": "execute_result",
          "data": {
            "text/plain": [
              "<sqlalchemy.engine.cursor.LegacyCursorResult at 0x7f2ea749b790>"
            ]
          },
          "metadata": {},
          "execution_count": 42
        }
      ]
    },
    {
      "cell_type": "code",
      "source": [
        "# create record for associated_lang table\n",
        "\n",
        "my_conn.execute('''INSERT INTO associated_lang(base_entity_id, language_iso_code) VALUES(1, \"ISOMESCOUILLES\") ''')"
      ],
      "metadata": {
        "colab": {
          "base_uri": "https://localhost:8080/"
        },
        "id": "IKs7Vi-7cmPw",
        "outputId": "cd289a15-58fe-465e-cc3c-ef75a044ae97"
      },
      "execution_count": 43,
      "outputs": [
        {
          "output_type": "execute_result",
          "data": {
            "text/plain": [
              "<sqlalchemy.engine.cursor.LegacyCursorResult at 0x7f2ea749b110>"
            ]
          },
          "metadata": {},
          "execution_count": 43
        }
      ]
    },
    {
      "cell_type": "code",
      "source": [
        "# create record for countries table\n",
        "\n",
        "my_conn.execute('''INSERT INTO countries( country_name, base_entity_id) VALUES( \"France\", 1) ''')"
      ],
      "metadata": {
        "colab": {
          "base_uri": "https://localhost:8080/"
        },
        "id": "Pg5GMyZycppb",
        "outputId": "18f4ee76-6ca4-4501-c7ff-6ca3ad9dc3aa"
      },
      "execution_count": 44,
      "outputs": [
        {
          "output_type": "execute_result",
          "data": {
            "text/plain": [
              "<sqlalchemy.engine.cursor.LegacyCursorResult at 0x7f2ea75a2fd0>"
            ]
          },
          "metadata": {},
          "execution_count": 44
        }
      ]
    },
    {
      "cell_type": "code",
      "source": [
        "# create record for game_official table\n",
        "\n",
        "my_conn.execute('''INSERT INTO game_official( first_name, last_name, city_id, role_id, base_entity_id) VALUES ( \"balthazar\", \"roque\", 1, 1, 2) ''')"
      ],
      "metadata": {
        "colab": {
          "base_uri": "https://localhost:8080/"
        },
        "id": "w3cCAa41csfu",
        "outputId": "f76920dc-fd07-42f4-be81-da9ea80c439c"
      },
      "execution_count": 45,
      "outputs": [
        {
          "output_type": "execute_result",
          "data": {
            "text/plain": [
              "<sqlalchemy.engine.cursor.LegacyCursorResult at 0x7f2ea74e3350>"
            ]
          },
          "metadata": {},
          "execution_count": 45
        }
      ]
    },
    {
      "cell_type": "code",
      "source": [
        "# create record for role table\n",
        "\n",
        "my_conn.execute('''INSERT INTO role( name) VALUES ( \"Coach\") ''')"
      ],
      "metadata": {
        "colab": {
          "base_uri": "https://localhost:8080/"
        },
        "id": "oAjSagu_cw0j",
        "outputId": "84bbce4c-6dd8-473d-f6a9-14f2da92231e"
      },
      "execution_count": 46,
      "outputs": [
        {
          "output_type": "execute_result",
          "data": {
            "text/plain": [
              "<sqlalchemy.engine.cursor.LegacyCursorResult at 0x7f2ea7533810>"
            ]
          },
          "metadata": {},
          "execution_count": 46
        }
      ]
    },
    {
      "cell_type": "code",
      "source": [
        "# create record for trip_info table\n",
        "\n",
        "my_conn.execute('''INSERT INTO  trip_info( adress, location_type, date_time, odometer) VALUES ( \"4 rue saint georges, 77130 Marolles sur seine\", \"hostel\", \"22/10/2022 : 10:12\", 2451553)''')"
      ],
      "metadata": {
        "colab": {
          "base_uri": "https://localhost:8080/"
        },
        "id": "1ITGMoOdc1dh",
        "outputId": "746077cc-979f-4841-a901-9ec8d9b574c4"
      },
      "execution_count": 47,
      "outputs": [
        {
          "output_type": "execute_result",
          "data": {
            "text/plain": [
              "<sqlalchemy.engine.cursor.LegacyCursorResult at 0x7f2ea7420e90>"
            ]
          },
          "metadata": {},
          "execution_count": 47
        }
      ]
    },
    {
      "cell_type": "code",
      "source": [
        "# create record for city table\n",
        "\n",
        "my_conn.execute('''INSERT INTO city( name, country_id) VALUES ( \"Toronto\", 1) ''')"
      ],
      "metadata": {
        "colab": {
          "base_uri": "https://localhost:8080/"
        },
        "id": "BSYF0703c5HN",
        "outputId": "8b8f10ad-b798-42e3-c7c6-654634e318cd"
      },
      "execution_count": 48,
      "outputs": [
        {
          "output_type": "execute_result",
          "data": {
            "text/plain": [
              "<sqlalchemy.engine.cursor.LegacyCursorResult at 0x7f2ea74256d0>"
            ]
          },
          "metadata": {},
          "execution_count": 48
        }
      ]
    },
    {
      "cell_type": "code",
      "source": [
        "# create record for vehicle table\n",
        "\n",
        "my_conn.execute('''INSERT INTO vehicle(id, registration_id, manufacter, model, color, curent_odometer, passenger_capacity, is_available, maintenance_id) VALUES (\"1\", \"resgister_1\", \"kia\" ,\"stinger\", \"grey\", 1873788, 3, 0, 1 )''')"
      ],
      "metadata": {
        "colab": {
          "base_uri": "https://localhost:8080/"
        },
        "id": "EGkGo2OUc8No",
        "outputId": "f9e09a5a-51b6-4772-acdd-e22645584d01"
      },
      "execution_count": 49,
      "outputs": [
        {
          "output_type": "execute_result",
          "data": {
            "text/plain": [
              "<sqlalchemy.engine.cursor.LegacyCursorResult at 0x7f2ea7427c50>"
            ]
          },
          "metadata": {},
          "execution_count": 49
        }
      ]
    },
    {
      "cell_type": "code",
      "source": [
        "# create record for maintenance table\n",
        "\n",
        "my_conn.execute('''INSERT INTO maintenance( action_type, odometer, final_cost, action_description, date) VALUES ( \"A\", 144155, 415166, \"change oil\", \"22/10/2020\")''')"
      ],
      "metadata": {
        "colab": {
          "base_uri": "https://localhost:8080/"
        },
        "id": "FUWtsUMzdCkA",
        "outputId": "285f4026-a185-4dca-c197-fc4187e45731"
      },
      "execution_count": 69,
      "outputs": [
        {
          "output_type": "execute_result",
          "data": {
            "text/plain": [
              "<sqlalchemy.engine.cursor.LegacyCursorResult at 0x7f2ea7549f90>"
            ]
          },
          "metadata": {},
          "execution_count": 69
        }
      ]
    },
    {
      "cell_type": "code",
      "source": [
        "# create record for booking table\n",
        "\n",
        "my_conn.execute('''INSERT INTO booking(booking_ref, vehicle_id, driver_id, trip_info_start, trip_info_end, game_official_id) VALUES (\"booking_ref1\", \"vehicle_id\", 1, 2, 2, 3 )''')"
      ],
      "metadata": {
        "colab": {
          "base_uri": "https://localhost:8080/"
        },
        "id": "klfH08_qdHBW",
        "outputId": "848a37b4-cd5a-495d-d1ab-95c54d92923b"
      },
      "execution_count": 70,
      "outputs": [
        {
          "output_type": "execute_result",
          "data": {
            "text/plain": [
              "<sqlalchemy.engine.cursor.LegacyCursorResult at 0x7f2ea7420910>"
            ]
          },
          "metadata": {},
          "execution_count": 70
        }
      ]
    },
    {
      "cell_type": "code",
      "source": [
        "# create record for driver table\n",
        "\n",
        "my_conn.execute('''INSERT INTO driver( first_name, last_name, license_numer, clerence_level, stlv_id, fatl_id, base_entity_id) VALUES ( \"mijj\", \"hhe\", \"hbhdebhj\", 2, 1, 2, 1)''')"
      ],
      "metadata": {
        "colab": {
          "base_uri": "https://localhost:8080/"
        },
        "id": "XL7zf6VFdPGe",
        "outputId": "aacc4bd1-ba71-4516-f24e-86db7a896b42"
      },
      "execution_count": 67,
      "outputs": [
        {
          "output_type": "execute_result",
          "data": {
            "text/plain": [
              "<sqlalchemy.engine.cursor.LegacyCursorResult at 0x7f2ea743f7d0>"
            ]
          },
          "metadata": {},
          "execution_count": 67
        }
      ]
    },
    {
      "cell_type": "code",
      "source": [
        "# fetch 10 first record in fatl table\n",
        "query = \"SELECT * FROM fatl limit 0,10\"\n",
        "test = my_conn.execute(query)\n",
        "\n",
        "data_row = test.fetchall()\n",
        "\n",
        "for row in data_row:\n",
        "  print(row)"
      ],
      "metadata": {
        "colab": {
          "base_uri": "https://localhost:8080/"
        },
        "id": "jriQmyygXRKk",
        "outputId": "0c5ee41d-8b7c-41ea-e372-43c1769d506d"
      },
      "execution_count": 72,
      "outputs": [
        {
          "output_type": "stream",
          "name": "stdout",
          "text": [
            "(1, 33, '21/10/2022', 'driver1')\n",
            "(2, 33, '21/10/2022', 'driver1')\n",
            "(3, 33, '21/10/2022', 'driver1')\n",
            "(4, 33, '21/10/2022', 'driver1')\n",
            "(5, 33, '21/10/2022', 'driver1')\n",
            "(6, 33, '21/10/2022', 'driver1')\n",
            "(7, 33, '21/10/2022', 'driver1')\n",
            "(8, 33, '21/10/2022', 'driver1')\n",
            "(9, 33, '21/10/2022', 'driver1')\n",
            "(10, 33, '21/10/2022', 'driver1')\n"
          ]
        }
      ]
    },
    {
      "cell_type": "code",
      "source": [
        "# fetch 10 first record in stlv table\n",
        "query = \"SELECT * FROM stlv limit 0,10\"\n",
        "test = my_conn.execute(query)\n",
        "\n",
        "data_row = test.fetchall()\n",
        "\n",
        "for row in data_row:\n",
        "  print(row)"
      ],
      "metadata": {
        "colab": {
          "base_uri": "https://localhost:8080/"
        },
        "id": "Ew91traQChne",
        "outputId": "e1cb53e5-ffa4-480e-c75c-2fbd7ca125d8"
      },
      "execution_count": 73,
      "outputs": [
        {
          "output_type": "stream",
          "name": "stdout",
          "text": [
            "(1, 2, '18/09/2022', 'police', 'driver1')\n"
          ]
        }
      ]
    },
    {
      "cell_type": "code",
      "source": [
        "# fetch 10 first record in base_entity table\n",
        "query = \"SELECT * FROM base_entity limit 0,10\"\n",
        "test = my_conn.execute(query)\n",
        "\n",
        "data_row = test.fetchall()\n",
        "\n",
        "for row in data_row:\n",
        "  print(row)"
      ],
      "metadata": {
        "colab": {
          "base_uri": "https://localhost:8080/"
        },
        "id": "wGVf-HQPCoZA",
        "outputId": "d7a7a954-f3d6-4c4a-ee61-110ec75f638f"
      },
      "execution_count": 74,
      "outputs": [
        {
          "output_type": "stream",
          "name": "stdout",
          "text": [
            "(1,)\n"
          ]
        }
      ]
    },
    {
      "cell_type": "code",
      "source": [
        "# fetch 10 first record in language table\n",
        "query = \"SELECT * FROM language limit 0,10\"\n",
        "test = my_conn.execute(query)\n",
        "\n",
        "data_row = test.fetchall()\n",
        "\n",
        "for row in data_row:\n",
        "  print(row)"
      ],
      "metadata": {
        "id": "S9g0vyq6Czdr"
      },
      "execution_count": null,
      "outputs": []
    },
    {
      "cell_type": "code",
      "source": [
        "# fetch 10 first record in associated_lang table\n",
        "query = \"SELECT * FROM associated_lang limit 0,10\"\n",
        "test = my_conn.execute(query)\n",
        "\n",
        "data_row = test.fetchall()\n",
        "\n",
        "for row in data_row:\n",
        "  print(row)"
      ],
      "metadata": {
        "id": "5t4jgyosC00q"
      },
      "execution_count": null,
      "outputs": []
    },
    {
      "cell_type": "code",
      "source": [
        "# fetch 10 first record in countries table\n",
        "query = \"SELECT * FROM countries limit 0,10\"\n",
        "test = my_conn.execute(query)\n",
        "\n",
        "data_row = test.fetchall()\n",
        "\n",
        "for row in data_row:\n",
        "  print(row)"
      ],
      "metadata": {
        "id": "n1RygQZDC1iA"
      },
      "execution_count": null,
      "outputs": []
    },
    {
      "cell_type": "code",
      "source": [
        "# fetch 10 first record in game_official table\n",
        "query = \"SELECT * FROM game_official limit 0,10\"\n",
        "test = my_conn.execute(query)\n",
        "\n",
        "data_row = test.fetchall()\n",
        "\n",
        "for row in data_row:\n",
        "  print(row)"
      ],
      "metadata": {
        "colab": {
          "base_uri": "https://localhost:8080/"
        },
        "id": "FpmmxlYDC2yI",
        "outputId": "bd0fe594-0de1-433b-c3bd-ffdf15ea3935"
      },
      "execution_count": 75,
      "outputs": [
        {
          "output_type": "stream",
          "name": "stdout",
          "text": [
            "(1, 'balthazar', 'roque', 1, 1, 2)\n"
          ]
        }
      ]
    },
    {
      "cell_type": "code",
      "source": [
        "# fetch 10 first record in role table\n",
        "query = \"SELECT * FROM role limit 0,10\"\n",
        "test = my_conn.execute(query)\n",
        "\n",
        "data_row = test.fetchall()\n",
        "\n",
        "for row in data_row:\n",
        "  print(row)"
      ],
      "metadata": {
        "id": "nbrM5Uq3C3UM"
      },
      "execution_count": null,
      "outputs": []
    },
    {
      "cell_type": "code",
      "source": [
        "# fetch 10 first record in trip_info table\n",
        "query = \"SELECT * FROM trip_info limit 0,10\"\n",
        "test = my_conn.execute(query)\n",
        "\n",
        "data_row = test.fetchall()\n",
        "\n",
        "for row in data_row:\n",
        "  print(row)"
      ],
      "metadata": {
        "id": "7I3RUKicDOj_"
      },
      "execution_count": null,
      "outputs": []
    },
    {
      "cell_type": "code",
      "source": [
        "# fetch 10 first record in city table\n",
        "query = \"SELECT * FROM city limit 0,10\"\n",
        "test = my_conn.execute(query)\n",
        "\n",
        "data_row = test.fetchall()\n",
        "\n",
        "for row in data_row:\n",
        "  print(row)"
      ],
      "metadata": {
        "id": "6CF1f25JDO_k"
      },
      "execution_count": null,
      "outputs": []
    },
    {
      "cell_type": "code",
      "source": [
        "# fetch 10 first record in vehicle table\n",
        "query = \"SELECT * FROM vehicle limit 0,10\"\n",
        "test = my_conn.execute(query)\n",
        "\n",
        "data_row = test.fetchall()\n",
        "\n",
        "for row in data_row:\n",
        "  print(row)"
      ],
      "metadata": {
        "colab": {
          "base_uri": "https://localhost:8080/"
        },
        "id": "hpPmXuSdDXJa",
        "outputId": "adfab22a-26c7-406b-dfd8-11117c516631"
      },
      "execution_count": 79,
      "outputs": [
        {
          "output_type": "stream",
          "name": "stdout",
          "text": [
            "('1', 'resgister_1', 'kia', 'stinger', 'grey', 1873788, 3, 0, 1)\n"
          ]
        }
      ]
    },
    {
      "cell_type": "code",
      "source": [
        "# fetch 10 first record in maintenance table\n",
        "query = \"SELECT * FROM maintenance limit 0,10\"\n",
        "test = my_conn.execute(query)\n",
        "\n",
        "data_row = test.fetchall()\n",
        "\n",
        "for row in data_row:\n",
        "  print(row)"
      ],
      "metadata": {
        "colab": {
          "base_uri": "https://localhost:8080/"
        },
        "id": "J9QCVmOPDYfo",
        "outputId": "49df832a-3d4f-4020-bed4-b9b947aee0f3"
      },
      "execution_count": 78,
      "outputs": [
        {
          "output_type": "stream",
          "name": "stdout",
          "text": [
            "(1, 'A', 144155, 415166, 'change oil', '22/10/2020')\n",
            "(2, 'A', 144155, 415166, 'change oil', '22/10/2020')\n"
          ]
        }
      ]
    },
    {
      "cell_type": "code",
      "source": [
        "# fetch 10 first record in booking table\n",
        "query = \"SELECT * FROM booking limit 0,10\"\n",
        "test = my_conn.execute(query)\n",
        "\n",
        "data_row = test.fetchall()\n",
        "\n",
        "for row in data_row:\n",
        "  print(row)"
      ],
      "metadata": {
        "colab": {
          "base_uri": "https://localhost:8080/"
        },
        "id": "NK2Fk_eVDYvf",
        "outputId": "428a7f2f-c751-42b9-afa5-d1b54f7229dc"
      },
      "execution_count": 77,
      "outputs": [
        {
          "output_type": "stream",
          "name": "stdout",
          "text": [
            "('booking_ref', 'vehicle_id', 1, 2, 2, 3)\n",
            "('booking_ref1', 'vehicle_id', 1, 2, 2, 3)\n"
          ]
        }
      ]
    },
    {
      "cell_type": "code",
      "source": [
        "# fetch 10 first record in driver table\n",
        "query = \"SELECT * FROM driver limit 0,10\"\n",
        "test = my_conn.execute(query)\n",
        "\n",
        "data_row = test.fetchall()\n",
        "\n",
        "for row in data_row:\n",
        "  print(row)"
      ],
      "metadata": {
        "colab": {
          "base_uri": "https://localhost:8080/"
        },
        "id": "fcHKS6ayDlE6",
        "outputId": "8c656264-7f75-4ddb-868a-408d35f28a92"
      },
      "execution_count": 76,
      "outputs": [
        {
          "output_type": "stream",
          "name": "stdout",
          "text": [
            "(1, 'mijj', 'hhe', 'hbhdebhj', 2, 1, 2, 1)\n",
            "(2, 'mijj', 'hhe', 'hbhdebhj', 2, 1, 2, 1)\n"
          ]
        }
      ]
    }
  ]
}